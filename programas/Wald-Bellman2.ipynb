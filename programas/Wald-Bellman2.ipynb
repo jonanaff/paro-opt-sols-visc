{
 "cells": [
  {
   "cell_type": "markdown",
   "id": "73239b42",
   "metadata": {},
   "source": [
    "Sea $(X_k)_{k\\geq 0}$ una caminata aleatoria en un círculo. La podemos interpretar como una cadena de Markov con matriz de transición $P$ que toma valores en $E = \\{1,2,...,N\\}$ y que conecta el primer estado con el último. "
   ]
  },
  {
   "cell_type": "code",
   "execution_count": 1,
   "id": "abc9384a",
   "metadata": {},
   "outputs": [
    {
     "name": "stdout",
     "output_type": "stream",
     "text": [
      "[0.0 0.5 0.0 0.0 0.5; 0.5 0.0 0.5 0.0 0.0; 0.0 0.5 0.0 0.5 0.0; 0.0 0.0 0.5 0.0 0.5; 0.5 0.0 0.0 0.5 0.0]"
     ]
    }
   ],
   "source": [
    "N = 5\n",
    "p = 0.5\n",
    "\n",
    "function GenMatrix(N,p)\n",
    "    P = zeros(N,N)\n",
    "\n",
    "    #Conectamos los extremos de la caminata aleatoria\n",
    "    P[N,N-1] = P[1,N] = 1-p\n",
    "    P[1,2] = P[N,1] = p\n",
    "\n",
    "    #El resto se define igual\n",
    "    for i in 2:N-1\n",
    "        P[i,i+1] = p\n",
    "        P[i,i-1] = 1-p\n",
    "    end\n",
    "\n",
    "    return P\n",
    "    \n",
    "end\n",
    "\n",
    "    \n",
    "P = GenMatrix(N,p)\n",
    "    \n",
    "print(P)"
   ]
  },
  {
   "cell_type": "markdown",
   "id": "5d55c083",
   "metadata": {},
   "source": [
    "Programar Wald-Bellman: $V^n(x) = max\\{G(x),TV^{n-1}(x)\\}$.\n",
    "\n",
    "Necesitamos:\n",
    "\n",
    "-Una cadena de Markov (homogénea)\n",
    "\n",
    "-Una función de ganancia G : E -> R\n",
    "\n",
    "-Condición sobre la esperanza\n",
    "\n",
    "Nos enfocamos en $G(x) = \\max\\{x-k,0\\}$ para $k \\in N$."
   ]
  },
  {
   "cell_type": "code",
   "execution_count": 2,
   "id": "26a7ca22",
   "metadata": {},
   "outputs": [
    {
     "name": "stdout",
     "output_type": "stream",
     "text": [
      "[0.0, 0.0, 1.0, 2.0, 3.0]"
     ]
    }
   ],
   "source": [
    "#Función de ganancia\n",
    "function G(x,k)\n",
    "    \n",
    "    return max(x-k,0)\n",
    "    \n",
    "end\n",
    "\n",
    "\n",
    "#Si el espacio de estas E es finito, G se puede ver como un vector\n",
    "N = length(P[1,:])\n",
    "k = 2\n",
    "Gvect = zeros(N)\n",
    "for i in 1:N\n",
    "    Gvect[i] = G(i,k)\n",
    "end\n",
    "\n",
    "print(Gvect)"
   ]
  },
  {
   "cell_type": "markdown",
   "id": "be0d77dd",
   "metadata": {},
   "source": [
    "Para calcular WB usamos la relación $Q^nG = V^n$, donde $QF(x) = \\max\\{G(x), TF(x)\\}$. "
   ]
  },
  {
   "cell_type": "code",
   "execution_count": 3,
   "id": "9f4dc84e",
   "metadata": {},
   "outputs": [
    {
     "name": "stdout",
     "output_type": "stream",
     "text": [
      "[2.4375, 2.03125, 2.09375, 2.40625, 3.0]"
     ]
    }
   ],
   "source": [
    "#Operador de traslación (transición), que es tomar esperanza \n",
    "#condicional  de F(X_1) partiendo de x\n",
    "function TrOperator(P,F,x)\n",
    "    \n",
    "    n = length(P[1,:])\n",
    "    E = 0\n",
    "    for k in 1:n\n",
    "        E += F[k]*P[x,k]\n",
    "    end\n",
    "    \n",
    "    return E\n",
    "    \n",
    "end\n",
    "\n",
    "\n",
    "#Operador Q\n",
    "function Qfunc(P,G,F)\n",
    "    n = length(P[1,:])\n",
    "    QF = zeros(n)\n",
    "    for k in 1:n\n",
    "        QF[k] = max(G[k],TrOperator(P,F,k))\n",
    "    end\n",
    "    return QF\n",
    "end\n",
    "\n",
    "\n",
    "#Calculamos Wald-Bellman\n",
    "function Vmax(P,G,N)\n",
    "        V = G\n",
    "        for i in 1:N\n",
    "            V = Qfunc(P,G,V)\n",
    "        end\n",
    "        return V\n",
    "end\n",
    "\n",
    "\n",
    "print(Vmax(P,Gvect,5))\n",
    "    "
   ]
  },
  {
   "cell_type": "markdown",
   "id": "321ef683",
   "metadata": {},
   "source": [
    "Comparemos distintas iteraciones."
   ]
  },
  {
   "cell_type": "code",
   "execution_count": 4,
   "id": "a2e5f0a7",
   "metadata": {},
   "outputs": [
    {
     "name": "stdout",
     "output_type": "stream",
     "text": [
      "\u001b[1m5×5 DataFrame\u001b[0m\n",
      "\u001b[1m Row \u001b[0m│\u001b[1m 1       \u001b[0m\u001b[1m 2       \u001b[0m\u001b[1m 3       \u001b[0m\u001b[1m 4       \u001b[0m\u001b[1m 5       \u001b[0m\n",
      "     │\u001b[90m Float64 \u001b[0m\u001b[90m Float64 \u001b[0m\u001b[90m Float64 \u001b[0m\u001b[90m Float64 \u001b[0m\u001b[90m Float64 \u001b[0m\n",
      "─────┼─────────────────────────────────────────────\n",
      "   1 │ 1.5      0.5      1.0      2.0          3.0\n",
      "   2 │ 2.4375   2.03125  2.09375  2.40625      3.0\n",
      "   3 │ 2.79297  2.68555  2.66504  2.80566      3.0\n",
      "   4 │ 2.93265  2.88391  2.89102  2.92825      3.0\n",
      "   5 │ 2.97513  2.96223  2.95977  2.97666      3.0\n"
     ]
    }
   ],
   "source": [
    "using DataFrames\n",
    "\n",
    "header2 = []\n",
    "for i in 1:N\n",
    "    append!(header2,[string(i)])\n",
    "end\n",
    "\n",
    "data = []\n",
    "for i in 1:N\n",
    "    if i == 1\n",
    "        append!(data,[Vmax(P,Gvect,1)])\n",
    "    else \n",
    "        append!(data,[Vmax(P,Gvect,(i-1)*5)])\n",
    "    end\n",
    "end\n",
    "\n",
    "data2 = []\n",
    "for i in 1:N\n",
    "    col = zeros(N)\n",
    "    for j in 1:N\n",
    "        if j == 1\n",
    "            v = Vmax(P,Gvect,1)\n",
    "        else\n",
    "            v = Vmax(P,Gvect,(j-1)*5)\n",
    "        end\n",
    "        col[j] = v[i]\n",
    "    end\n",
    "    append!(data2,[col])\n",
    "end\n",
    "\n",
    "# Create a DataFrame\n",
    "df = DataFrame(data2, header2)\n",
    "\n",
    "# Display the table\n",
    "println(df)"
   ]
  },
  {
   "cell_type": "markdown",
   "id": "814de2da",
   "metadata": {},
   "source": [
    "Exploramos la relación recursiva de Camargo: $V^n = \\max\\{V^{n-1},TV^{n-1}\\}$. En este caso usamos el operador $\\widehat{Q}(F) = \\max\\{F(x),TF(x)\\}$, de modo que $V^n = \\widehat{Q}^n(G)$."
   ]
  },
  {
   "cell_type": "code",
   "execution_count": 5,
   "id": "1019bc33",
   "metadata": {
    "scrolled": true
   },
   "outputs": [
    {
     "name": "stdout",
     "output_type": "stream",
     "text": [
      "Camargo:[1.5, 0.5, 1.0, 2.0, 3.0]\n",
      ", WB:[1.5, 0.5, 1.0, 2.0, 3.0]\n",
      " \n",
      "Camargo:[2.4375, 2.03125, 2.09375, 2.40625, 3.0]\n",
      ", WB:[2.4375, 2.03125, 2.09375, 2.40625, 3.0]\n",
      " \n",
      "Camargo:[2.79296875, 2.685546875, 2.6650390625, 2.8056640625, 3.0]\n",
      ", WB:[2.79296875, 2.685546875, 2.6650390625, 2.8056640625, 3.0]\n",
      " \n",
      "Camargo:[2.932647705078125, 2.8839111328125, 2.891021728515625, 2.928253173828125, 3.0]\n",
      ", WB:[2.932647705078125, 2.8839111328125, 2.891021728515625, 2.928253173828125, 3.0]\n",
      " \n",
      "Camargo:[2.97513484954834, 2.9622316360473633, 2.9597673416137695, 2.9766578674316406, 3.0]\n",
      ", WB:[2.97513484954834, 2.9622316360473633, 2.9597673416137695, 2.9766578674316406, 3.0]\n",
      " \n"
     ]
    }
   ],
   "source": [
    "#El nuevo operador Q\n",
    "function QCam(P,F)\n",
    "    n = length(P[1,:])\n",
    "    PF = zeros(n)\n",
    "    for k in 1:n\n",
    "        PF[k]  = max(F[k],TrOperator(P,F,k))\n",
    "    end\n",
    "    return PF\n",
    "end\n",
    "\n",
    "#Recursión de Camargo\n",
    "function VCam(P,G,N)\n",
    "    V = G\n",
    "    for i in 1:N\n",
    "        V = QCam(P,V)\n",
    "    end\n",
    "    return V\n",
    "end\n",
    "    \n",
    "    \n",
    "print(\"Camargo:\")\n",
    "println(VCam(P,Gvect,1))\n",
    "print(\", WB:\")\n",
    "println(Vmax(P,Gvect,1))\n",
    "println(\" \")\n",
    "    \n",
    "for i in 2:5\n",
    "    print(\"Camargo:\")\n",
    "    println(VCam(P,Gvect,(i-1)*5))\n",
    "    print(\", WB:\")\n",
    "    println(Vmax(P,Gvect,(i-1)*5))\n",
    "    println(\" \")\n",
    "end\n",
    "        \n"
   ]
  },
  {
   "cell_type": "markdown",
   "id": "c4c9e36a",
   "metadata": {},
   "source": [
    "Siempre es interesante estudiar algún tipo de noción de tasa de convergencia. Aquí utilizamos $tasa = \\lim_{n \\to \\infty}log(\\|u-u_{n+1}\\|/\\|u-u_{n}\\|)$."
   ]
  },
  {
   "cell_type": "code",
   "execution_count": 6,
   "id": "dc743f25",
   "metadata": {},
   "outputs": [
    {
     "name": "stdout",
     "output_type": "stream",
     "text": [
      "[1.0, 0.31797321471998063, 0.3075576673638784, 0.3060210173887202, 0.305796455500702, 0.30576368452080516, 0.30575890313229964, 0.30575820553356364, 0.30575810375520407, 0.3057580889059397]"
     ]
    }
   ],
   "source": [
    "#Calcula la norma  1 de la diferencia de la solución real y la solución aproximada\n",
    "function ErrorFunc(aprox_sol, real_sol)\n",
    "    K = length(aprox_sol)\n",
    "    error = 0\n",
    "    if(length(aprox_sol) == length(real_sol))\n",
    "        for i in 1:K\n",
    "            error += abs(aprox_sol[i] - real_sol[i])^2\n",
    "        end\n",
    "    end\n",
    "    return sqrt(error)\n",
    "end\n",
    "\n",
    "#Calculamos la tasa de convergencia\n",
    "function ErrorRateFunc(P,Gvect,real_sol, n)\n",
    "    error_rates = zeros(n) \n",
    "    error_rates[1] = 1\n",
    "    aprox_sols = zeros(2,length(real_sol))\n",
    "    for i in 2:n\n",
    "        aprox_sols[1,:] = Vmax(P,Gvect,i-1)\n",
    "        aprox_sols[2,:] = Vmax(P,Gvect,i)\n",
    "        error_rates[i] = log(ErrorFunc(aprox_sols[2,:],real_sol)/ErrorFunc(aprox_sols[1,:],real_sol))/log(0.5)\n",
    "    end\n",
    "    return error_rates\n",
    "    \n",
    "end\n",
    "\n",
    "\n",
    "real_sol = zeros(N)\n",
    "for i in 1:N\n",
    "    \n",
    "    real_sol[i] = Gvect[N]\n",
    "\n",
    "end\n",
    "\n",
    "\n",
    "error_rate = ErrorRateFunc(P,Gvect,real_sol, 10)\n",
    "print(error_rate)"
   ]
  },
  {
   "cell_type": "markdown",
   "id": "ffb63759",
   "metadata": {},
   "source": [
    "¿Qué pasa si la cadena de Markov tiene un estado absorbente?"
   ]
  },
  {
   "cell_type": "code",
   "execution_count": 7,
   "id": "dd2c0c7e",
   "metadata": {},
   "outputs": [
    {
     "name": "stdout",
     "output_type": "stream",
     "text": [
      "[0.0, 0.875, 1.0]"
     ]
    }
   ],
   "source": [
    "#Matriz de transición\n",
    "P = [1 0 0; 0.1 0.2 0.7 ; 0.3 0.6 0.1]\n",
    "\n",
    "#Discretización de la función de ganancia\n",
    "k = 2\n",
    "N = length(P[1,:])\n",
    "Gvect = zeros(N)\n",
    "for i in 1:N\n",
    "    Gvect[i] = G(i,k)\n",
    "end\n",
    "\n",
    "print(VCam(P,Gvect,50))"
   ]
  },
  {
   "cell_type": "markdown",
   "id": "9704e247",
   "metadata": {},
   "source": [
    "¿Qué pasa si matamos la cadena de Markov en un tiempo geométrico?"
   ]
  },
  {
   "cell_type": "code",
   "execution_count": 8,
   "id": "aac9e033",
   "metadata": {},
   "outputs": [
    {
     "name": "stdout",
     "output_type": "stream",
     "text": [
      "\u001b[1m5×5 DataFrame\u001b[0m\n",
      "\u001b[1m Row \u001b[0m│\u001b[1m 1       \u001b[0m\u001b[1m 2        \u001b[0m\u001b[1m 3       \u001b[0m\u001b[1m 4       \u001b[0m\u001b[1m 5       \u001b[0m\n",
      "     │\u001b[90m Float64 \u001b[0m\u001b[90m Float64  \u001b[0m\u001b[90m Float64 \u001b[0m\u001b[90m Float64 \u001b[0m\u001b[90m Float64 \u001b[0m\n",
      "─────┼──────────────────────────────────────────────\n",
      "   1 │     0.0  0.5       1.0      2.0          3.0\n",
      "   2 │     0.0  0.6875    1.375    2.1875       3.0\n",
      "   3 │     0.0  0.734375  1.48438  2.23438      3.0\n",
      "   4 │     0.0  0.748047  1.49609  2.24805      3.0\n",
      "   5 │     0.0  0.749512  1.49951  2.24951      3.0\n"
     ]
    }
   ],
   "source": [
    "N = 5\n",
    "\n",
    "P = GenMatrix(N,p)\n",
    "\n",
    "P[1,:] = zeros(N)\n",
    "P[1,1] = 1\n",
    "\n",
    "Gvect = zeros(N)\n",
    "for i in 1:N\n",
    "    Gvect[i] = G(i,k)\n",
    "end\n",
    "\n",
    "using DataFrames\n",
    "\n",
    "header2 = []\n",
    "for i in 1:N\n",
    "    append!(header2,[string(i)])\n",
    "end\n",
    "\n",
    "data = []\n",
    "for i in 1:N\n",
    "    if i == 1\n",
    "        append!(data,[Vmax(P,Gvect,1)])\n",
    "    else \n",
    "        append!(data,[Vmax(P,Gvect,(i-1)*5)])\n",
    "    end\n",
    "end\n",
    "\n",
    "data2 = []\n",
    "for i in 1:N\n",
    "    col = zeros(N)\n",
    "    for j in 1:N\n",
    "        if j == 1\n",
    "            v = Vmax(P,Gvect,1)\n",
    "        else\n",
    "            v = Vmax(P,Gvect,(j-1)*5)\n",
    "        end\n",
    "        col[j] = v[i]\n",
    "    end\n",
    "    append!(data2,[col])\n",
    "end\n",
    "\n",
    "df = DataFrame(data2, header2)\n",
    "\n",
    "println(df)"
   ]
  },
  {
   "cell_type": "markdown",
   "id": "693854e7",
   "metadata": {},
   "source": [
    "Segunda interpretación."
   ]
  },
  {
   "cell_type": "code",
   "execution_count": 10,
   "id": "189a0202",
   "metadata": {},
   "outputs": [
    {
     "name": "stdout",
     "output_type": "stream",
     "text": [
      "\u001b[1m6×6 DataFrame\u001b[0m\n",
      "\u001b[1m Row \u001b[0m│\u001b[1m 1       \u001b[0m\u001b[1m 2        \u001b[0m\u001b[1m 3        \u001b[0m\u001b[1m 4       \u001b[0m\u001b[1m 5       \u001b[0m\u001b[1m 6       \u001b[0m\n",
      "     │\u001b[90m Float64 \u001b[0m\u001b[90m Float64  \u001b[0m\u001b[90m Float64  \u001b[0m\u001b[90m Float64 \u001b[0m\u001b[90m Float64 \u001b[0m\u001b[90m Float64 \u001b[0m\n",
      "─────┼────────────────────────────────────────────────────────\n",
      "   1 │     0.0  0.3       0.1           1.0      2.0      3.0\n",
      "   2 │     0.0  0.31313   0.13131       1.0      2.0      3.0\n",
      "   3 │     0.0  0.313131  0.131313      1.0      2.0      3.0\n",
      "   4 │     0.0  0.313131  0.131313      1.0      2.0      3.0\n",
      "   5 │     0.0  0.313131  0.131313      1.0      2.0      3.0\n",
      "   6 │     0.0  0.313131  0.131313      1.0      2.0      3.0\n"
     ]
    }
   ],
   "source": [
    "using Distributions\n",
    "using DataFrames\n",
    "\n",
    "\n",
    "N = 5\n",
    "p = 0.5                     #Parámetro de la caminata\n",
    "q = 0.2                     #Parámetro de las variables  geométricas\n",
    "P = GenMatrix(N,p)\n",
    "\n",
    "Pdeath = zeros(N+1,N+1)\n",
    "\n",
    "\n",
    "Pdeath[1,1] = 1\n",
    "\n",
    "for i in 2:N+1\n",
    "    Pdeath[i,1] = 1-q\n",
    "    for j in 2:N+1\n",
    "        Pdeath[i,j] = q*P[i-1,j-1]\n",
    "    end\n",
    "end\n",
    "\n",
    "k = 2\n",
    "Gvect2 = zeros(N+1)\n",
    "Gvect2[1] = 0\n",
    "for i in 2:N+1\n",
    "    Gvect2[i] = G(i-1,k)\n",
    "end\n",
    "\n",
    "N = N+1\n",
    "header2 = []\n",
    "for i in 1:N\n",
    "    append!(header2,[string(i)])\n",
    "end\n",
    "\n",
    "data = []\n",
    "for i in 1:N\n",
    "    if i == 1\n",
    "        append!(data,[Vmax(Pdeath,Gvect2,1)])\n",
    "    else \n",
    "        append!(data,[Vmax(Pdeath,Gvect2,(i-1)*5)])\n",
    "    end\n",
    "end\n",
    "\n",
    "data2 = []\n",
    "for i in 1:N\n",
    "    col = zeros(N)\n",
    "    for j in 1:N\n",
    "        if j == 1\n",
    "            v = Vmax(Pdeath,Gvect2,1)\n",
    "        else\n",
    "            v = Vmax(Pdeath,Gvect2,(j-1)*5)\n",
    "        end\n",
    "        col[j] = v[i]\n",
    "    end\n",
    "    append!(data2,[col])\n",
    "end\n",
    "\n",
    "df = DataFrame(data2, header2)\n",
    "\n",
    "println(df)"
   ]
  },
  {
   "cell_type": "markdown",
   "id": "aa9c92ae",
   "metadata": {},
   "source": [
    "¿Qué pasa si matamos la cadena de Markov al salir de una región?"
   ]
  },
  {
   "cell_type": "code",
   "execution_count": 11,
   "id": "0450ce87",
   "metadata": {},
   "outputs": [
    {
     "data": {
      "text/plain": [
       "11×11 Matrix{Float64}:\n",
       " 1.0  0.0  0.0  0.0  0.0  0.0  0.0  0.0  0.0  0.0  0.0\n",
       " 0.0  0.0  0.5  0.0  0.0  0.0  0.0  0.0  0.0  0.0  0.5\n",
       " 0.0  0.5  0.0  0.5  0.0  0.0  0.0  0.0  0.0  0.0  0.0\n",
       " 0.0  0.0  0.5  0.0  0.5  0.0  0.0  0.0  0.0  0.0  0.0\n",
       " 0.0  0.0  0.0  0.5  0.0  0.5  0.0  0.0  0.0  0.0  0.0\n",
       " 0.0  0.0  0.0  0.0  0.5  0.0  0.5  0.0  0.0  0.0  0.0\n",
       " 0.0  0.0  0.0  0.0  0.0  0.5  0.0  0.5  0.0  0.0  0.0\n",
       " 1.0  0.0  0.0  0.0  0.0  0.0  0.0  0.0  0.0  0.0  0.0\n",
       " 1.0  0.0  0.0  0.0  0.0  0.0  0.0  0.0  0.0  0.0  0.0\n",
       " 1.0  0.0  0.0  0.0  0.0  0.0  0.0  0.0  0.0  0.0  0.0\n",
       " 1.0  0.0  0.0  0.0  0.0  0.0  0.0  0.0  0.0  0.0  0.0"
      ]
     },
     "execution_count": 11,
     "metadata": {},
     "output_type": "execute_result"
    }
   ],
   "source": [
    "N = 10                    \n",
    "p = 0.5                  \n",
    "lim = 6                   \n",
    "P = GenMatrix(N,p)        \n",
    "\n",
    "Pdeath = zeros(N+1,N+1)\n",
    "Pdeath[1,1] = 1\n",
    "\n",
    "for i in 2:N+1\n",
    "    if i<=lim+1\n",
    "        Pdeath[i,2:N+1] = P[i-1,:]\n",
    "    else\n",
    "        Pdeath[i,1] = 1\n",
    "    end\n",
    "end\n",
    "\n",
    "\n",
    "k = 4\n",
    "Gvect2 = zeros(N+1)\n",
    "Gvect2[1] = 0\n",
    "for i in 2:N+1\n",
    "    Gvect2[i] = G(i-1,k)\n",
    "end\n",
    "\n",
    "Pdeath\n",
    "#println(VCam(Pdeath,Gvect2,100))"
   ]
  },
  {
   "cell_type": "markdown",
   "id": "da6e559d",
   "metadata": {},
   "source": [
    "Caso submarkoviano"
   ]
  },
  {
   "cell_type": "code",
   "execution_count": 19,
   "id": "7f49975e",
   "metadata": {},
   "outputs": [
    {
     "name": "stdout",
     "output_type": "stream",
     "text": [
      "[0.31313, 0.13131, 1.0, 2.0, 3.0]\n",
      "[0.0, 0.31313, 0.13131, 1.0, 2.0, 3.0]\n"
     ]
    }
   ],
   "source": [
    "N = 5\n",
    "p = 0.5                     #Parámetro de la caminata\n",
    "q = 0.2                     #Parámetro de las variables  geométricas\n",
    "P = GenMatrix(N,p)\n",
    "\n",
    "Pdeath = zeros(N+1,N+1)\n",
    "\n",
    "\n",
    "Pdeath[1,1] = 1\n",
    "\n",
    "for i in 2:N+1\n",
    "    Pdeath[i,1] = 1-q\n",
    "    for j in 2:N+1\n",
    "        Pdeath[i,j] = q*P[i-1,j-1]\n",
    "    end\n",
    "end\n",
    "\n",
    "\n",
    "Psub = zeros(N,N)\n",
    "\n",
    "for i in 1:N\n",
    "    for j in 1:N\n",
    "        Psub[i,j] = Pdeath[i+1,j+1]\n",
    "    end\n",
    "end\n",
    "\n",
    "Gvect = zeros(N)\n",
    "for i in 1:N\n",
    "    Gvect[i] = G(i,k)\n",
    "end\n",
    "\n",
    "Gvect2 = zeros(N+1)\n",
    "Gvect2[1] = 0\n",
    "for i in 2:N+1\n",
    "    Gvect2[i] = G(i-1,k)\n",
    "end\n",
    "\n",
    "println(VCam(Psub,Gvect,5))\n",
    "println(VCam(Pdeath,Gvect2,5))\n",
    "#print(Psub)\n"
   ]
  },
  {
   "cell_type": "code",
   "execution_count": 22,
   "id": "094a610f",
   "metadata": {},
   "outputs": [
    {
     "name": "stdout",
     "output_type": "stream",
     "text": [
      "[0.7625, 0.875, 1.0]"
     ]
    }
   ],
   "source": [
    "#Matriz de transición\n",
    "P = [0 0.3 0.5 ; 0 0.2 0.7 ; 0 0.6 0.1]\n",
    "\n",
    "#Discretización de la función de ganancia\n",
    "k = 2\n",
    "N = length(P[1,:])\n",
    "Gvect = zeros(N)\n",
    "for i in 1:N\n",
    "    Gvect[i] = G(i,k)\n",
    "end\n",
    "\n",
    "print(VCam(P,Gvect,100))"
   ]
  },
  {
   "cell_type": "markdown",
   "id": "5c6889a0",
   "metadata": {},
   "source": [
    "Representación gráfica"
   ]
  },
  {
   "cell_type": "code",
   "execution_count": 18,
   "id": "dcf9b3d6",
   "metadata": {},
   "outputs": [
    {
     "name": "stdout",
     "output_type": "stream",
     "text": [
      "[1.0, 10.0, 9.0, 10.0, 9.0, 10.0, 9.0, 8.0, 7.0, 8.0, 9.0, 10.0, 1.0, 10.0, 9.0, 10.0, 9.0, 10.0, 1.0, 10.0, 1.0, 2.0, 1.0, 10.0, 1.0, 10.0, 9.0, 8.0, 7.0, 6.0, 7.0, 6.0, 7.0, 8.0, 9.0, 10.0, 9.0, 8.0, 9.0, 10.0, 1.0, 2.0, 1.0, 2.0, 1.0, 2.0, 1.0, 2.0, 3.0, 4.0, 3.0]\n"
     ]
    },
    {
     "name": "stderr",
     "output_type": "stream",
     "text": [
      "\u001b[36m\u001b[1m[ \u001b[22m\u001b[39m\u001b[36m\u001b[1mInfo: \u001b[22m\u001b[39mSaved animation to C:\\Users\\jonan\\anim_fps15.gif\n"
     ]
    },
    {
     "data": {
      "text/html": [
       "<img src=\"data:image/gif;base64,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\" />"
      ],
      "text/plain": [
       "Plots.AnimatedGif(\"C:\\\\Users\\\\jonan\\\\anim_fps15.gif\")"
      ]
     },
     "execution_count": 18,
     "metadata": {},
     "output_type": "execute_result"
    }
   ],
   "source": [
    "using Distributions\n",
    "using Plots\n",
    "\n",
    "function MarkovSequence(P,M,p,s)\n",
    "    \n",
    "    n = length(P[1,:])\n",
    "    freq_vec = zeros(M+1)\n",
    "    freq_vec[1] = s\n",
    "    RowTransMatrix = P[s,:]\n",
    "    \n",
    "    for i in 1:M\n",
    "        px = rand(Uniform(0,1))\n",
    "        if (px < p)\n",
    "            if s<n\n",
    "                s = s+1\n",
    "                freq_vec[i+1] = s\n",
    "                RowTransMatrix = P[s,:]\n",
    "            elseif (s == n)\n",
    "                s = 1\n",
    "                freq_vec[i+1] = 1 \n",
    "                RowTransMatrix = P[1,:]\n",
    "            end\n",
    "                    \n",
    "        else \n",
    "            if 1<s\n",
    "                s = s-1\n",
    "                freq_vec[i+1] = s\n",
    "                RowTransMatrix = P[s,:]\n",
    "            elseif (s == 1)\n",
    "                s = n\n",
    "                freq_vec[i+1] = n \n",
    "                RowTransMatrix = P[n,:]\n",
    "            end\n",
    "            \n",
    "        end\n",
    "\n",
    "\n",
    "    end\n",
    "\n",
    "    return freq_vec\n",
    "    \n",
    "    \n",
    "end\n",
    "\n",
    "M = 50\n",
    "N = 10\n",
    "P = GenMatrix(N,p)\n",
    "p= 0.5\n",
    "sequence = MarkovSequence(P,M,p,1)\n",
    "\n",
    "n = length(P[1,:])\n",
    "delta = 2*pi/n\n",
    "sequence_arg = zeros(M+1)\n",
    "sequence_arg[1] = pi/2\n",
    "for i in 1:M\n",
    "    if abs(sequence[i+1]-sequence[i]) == 1\n",
    "        sequence_arg[i+1] = sequence_arg[i] + (-sequence[i+1]+sequence[i])*delta\n",
    "    elseif (sequence[i+1]-sequence[i])<-1\n",
    "        sequence_arg[i+1] = pi/2 \n",
    "    elseif (sequence[i+1]-sequence[i])>1\n",
    "        sequence_arg[i+1] = pi/2 + delta\n",
    "    end\n",
    "        \n",
    "end\n",
    "\n",
    "theta = range(0, 2π, length = 100)\n",
    "\n",
    "\n",
    "x_circle = cos.(theta)\n",
    "y_circle = sin.(theta)\n",
    "plot!(theta, zeros(100), color = :blue, label = \"\")\n",
    "plot!(x_circle, y_circle, color = :blue, label = \"\")\n",
    "#plot(plot1, plot2, layout=(1,2), legend=true)\n",
    "x = cos.(sequence_arg)\n",
    "y = sin.(sequence_arg)\n",
    "\n",
    "println(sequence)\n",
    "\n",
    "anim = @animate for i ∈ 1:M\n",
    "    scatter([x[i]], [y[i]], color = :red, markersize = 10, label = \"\")\n",
    "    plot!(x_circle, y_circle, color = :blue, label = \"\")\n",
    "end\n",
    "gif(anim, \"anim_fps15.gif\", fps = 2)"
   ]
  }
 ],
 "metadata": {
  "kernelspec": {
   "display_name": "Julia 1.10.1",
   "language": "julia",
   "name": "julia-1.10"
  },
  "language_info": {
   "file_extension": ".jl",
   "mimetype": "application/julia",
   "name": "julia",
   "version": "1.10.1"
  }
 },
 "nbformat": 4,
 "nbformat_minor": 5
}
