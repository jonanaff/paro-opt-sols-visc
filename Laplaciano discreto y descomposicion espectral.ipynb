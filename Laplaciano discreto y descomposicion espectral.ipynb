{
 "cells": [
  {
   "cell_type": "markdown",
   "id": "6f2491cc",
   "metadata": {},
   "source": [
    "Las funciones propias del laplaciano tienen la forma $\\phi_j(x) = sin\\left(\\frac{\\pi jx}{N}\\right), \\quad j \\in \\{1,...,N-1\\}$"
   ]
  },
  {
   "cell_type": "code",
   "execution_count": 2,
   "id": "e88d49f1",
   "metadata": {},
   "outputs": [
    {
     "data": {
      "text/plain": [
       "4-element Vector{Float64}:\n",
       "  0.8090169943749475\n",
       "  0.30901699437494745\n",
       " -0.30901699437494734\n",
       " -0.8090169943749473"
      ]
     },
     "execution_count": 2,
     "metadata": {},
     "output_type": "execute_result"
    }
   ],
   "source": [
    "function phi_func(N)\n",
    "    phi_vect = zeros(N-1,N-1)\n",
    "    for j in 1:N-1\n",
    "        for x in 1:N-1\n",
    "            phi_vect[j,x] = sin((pi*j*x)/(N))\n",
    "        end\n",
    "    end\n",
    "    \n",
    "    return phi_vect\n",
    "end\n",
    "\n",
    "\n",
    "function lambda_func(N)\n",
    "    \n",
    "    lambda = zeros(N-1)\n",
    "    for j in 1:N-1\n",
    "        lambda[j] = cos(j*pi/N)\n",
    "    end\n",
    "    \n",
    "    return lambda\n",
    "end\n",
    "\n",
    "lambda_func(5)"
   ]
  },
  {
   "cell_type": "markdown",
   "id": "546471e2",
   "metadata": {},
   "source": [
    "De hecho podemos calcular los coeficientes de la expansión de Fourier para una función arbitraria $f$ por medio de $c_j = \\sum_{k=1}^{N-1}\\frac{2}{N}f(k)sin\\left(\\frac{\\pi jk}{N}\\right)$"
   ]
  },
  {
   "cell_type": "code",
   "execution_count": 3,
   "id": "296f3eff",
   "metadata": {},
   "outputs": [
    {
     "data": {
      "text/plain": [
       "6-element Vector{Float64}:\n",
       " -2.1718737919229625e-15\n",
       "  1.8735013540549517e-15\n",
       "  0.999999999999999\n",
       "  2.0000000000000004\n",
       "  3.0000000000000004\n",
       "  3.9999999999999973"
      ]
     },
     "execution_count": 3,
     "metadata": {},
     "output_type": "execute_result"
    }
   ],
   "source": [
    "#Calculamos los coeficientes de f\n",
    "function coeficientes(f)\n",
    "    N = length(f)\n",
    "    c = zeros(N)\n",
    "    for j in 1:N\n",
    "        for k in 1:N\n",
    "            c[j] += (2/(N+1))*f[k]*sin((pi*j*k)/(N+1))\n",
    "        end\n",
    "    end  \n",
    "    \n",
    "    return c\n",
    "end\n",
    "\n",
    "#La funcion de ganancia\n",
    "function G(x,k)\n",
    "    \n",
    "    return max(x-k,0)\n",
    "    \n",
    "end\n",
    "\n",
    "\n",
    "N = 7\n",
    "k = 2\n",
    "Gvect = zeros(N-1)\n",
    "for i in 1:N-1\n",
    "    Gvect[i] = G(i,k)\n",
    "end\n",
    "\n",
    "\n",
    "iden = 1:N\n",
    "func = zeros(N-1)\n",
    "\n",
    "#Coeficientes de la función de ganancia\n",
    "c = coeficientes(Gvect)\n",
    "\n",
    "#Reconstruimos la  función de ganancia (salvo errores numéricos)\n",
    "phi = phi_func(N)\n",
    "for x in 1:N-1\n",
    "    for j in 1:N-1 \n",
    "        func[x] += c[j]*phi[j,x]\n",
    "    end\n",
    "end\n",
    "\n",
    "func"
   ]
  },
  {
   "cell_type": "markdown",
   "id": "578019f9",
   "metadata": {},
   "source": [
    "La solución a la ecuación del calor está dada por $p_n(y) = \\sum_{j=1}^{N-1}c_j\\left[cos\\left(\\frac{j\\pi}{N}\\right)\\right]^n\\phi_j(y)$."
   ]
  },
  {
   "cell_type": "code",
   "execution_count": 11,
   "id": "389fc184",
   "metadata": {},
   "outputs": [
    {
     "data": {
      "text/plain": [
       "4-element Vector{Float64}:\n",
       " 6.908910820335724e-6\n",
       " 3.5575383784680614e-20\n",
       " 1.1178852532545117e-5\n",
       " 2.541098841762901e-20"
      ]
     },
     "execution_count": 11,
     "metadata": {},
     "output_type": "execute_result"
    }
   ],
   "source": [
    "#Calculamos la solucion a la ecuacion del calor\n",
    "function sol_heat(f,n)\n",
    "    N = length(f)\n",
    "    p = zeros(N)\n",
    "    phi = phi_func(N+1)\n",
    "    c = coeficientes(f)\n",
    "    lambda = lambda_func(N+1)\n",
    "    for x in 1:N\n",
    "        for j in 1:N\n",
    "            p[x] += c[j]*(lambda[j]^n)*phi[j,x]\n",
    "        end\n",
    "    end\n",
    "    \n",
    "    return p\n",
    "end\n",
    "\n",
    "\n",
    "#Quitamos los terminos correspondientes a valores propios negativos\n",
    "function sol_heat_plus(f,n)\n",
    "    N = length(f)\n",
    "    p = zeros(N)\n",
    "    phi = phi_func(N+1)\n",
    "    c = coeficientes(f)\n",
    "    lambda = lambda_func(N+1)\n",
    "    for x in 1:N\n",
    "        for j in 1:N\n",
    "            if lambda[j]>= 0\n",
    "                p[x] += c[j]*(lambda[j]^n)*phi[j,x]\n",
    "            end\n",
    "        end\n",
    "    end\n",
    "    \n",
    "    return p\n",
    "end\n",
    "\n",
    "#Solucion fundamental\n",
    "n = 10\n",
    "N = 5\n",
    "delta = zeros(N-1)\n",
    "delta[1] = 1\n",
    "\n",
    "sol_heat(delta,50)"
   ]
  },
  {
   "cell_type": "markdown",
   "id": "e6443e62",
   "metadata": {},
   "source": [
    "Veamos qué pasa si escogemos a la función de valor como condición inicial."
   ]
  },
  {
   "cell_type": "code",
   "execution_count": 13,
   "id": "6f27e491",
   "metadata": {},
   "outputs": [
    {
     "data": {
      "text/plain": [
       "4-element Vector{Float64}:\n",
       " 1.2498337086608326e-5\n",
       " 2.022273420898561e-5\n",
       " 2.0222734208985612e-5\n",
       " 1.2498337086608328e-5"
      ]
     },
     "execution_count": 13,
     "metadata": {},
     "output_type": "execute_result"
    }
   ],
   "source": [
    "k = 2\n",
    "N=5\n",
    "Gvect = zeros(N-1)\n",
    "for i in 1:N-1\n",
    "    Gvect[i] = G(i,k)\n",
    "end\n",
    "\n",
    "\n",
    "\n",
    "\n",
    "sol_heat_plus(Gvect,50)"
   ]
  },
  {
   "cell_type": "code",
   "execution_count": null,
   "id": "98126b2f",
   "metadata": {},
   "outputs": [],
   "source": []
  }
 ],
 "metadata": {
  "kernelspec": {
   "display_name": "Julia 1.10.1",
   "language": "julia",
   "name": "julia-1.10"
  },
  "language_info": {
   "file_extension": ".jl",
   "mimetype": "application/julia",
   "name": "julia",
   "version": "1.10.1"
  }
 },
 "nbformat": 4,
 "nbformat_minor": 5
}
